{
 "cells": [
  {
   "cell_type": "code",
   "execution_count": 12,
   "metadata": {},
   "outputs": [],
   "source": [
    "import pandas as pd\n",
    "import numpy as np\n",
    "from sklearn import preprocessing,datasets\n",
    "import sklearn\n",
    "import bmglearn"
   ]
  },
  {
   "cell_type": "code",
   "execution_count": 13,
   "metadata": {},
   "outputs": [],
   "source": [
    "dt = pd.read_csv('data.csv')"
   ]
  },
  {
   "cell_type": "code",
   "execution_count": 14,
   "metadata": {},
   "outputs": [
    {
     "data": {
      "text/plain": [
       "array([[2, 1, 0, 0],\n",
       "       [2, 1, 0, 1],\n",
       "       [0, 1, 0, 0],\n",
       "       [1, 2, 0, 0],\n",
       "       [1, 0, 1, 0],\n",
       "       [1, 0, 1, 1],\n",
       "       [0, 0, 1, 1],\n",
       "       [2, 2, 0, 0],\n",
       "       [2, 0, 1, 0],\n",
       "       [1, 2, 1, 0],\n",
       "       [2, 2, 1, 1],\n",
       "       [0, 2, 0, 1],\n",
       "       [0, 1, 1, 0],\n",
       "       [1, 2, 0, 1]], dtype=int64)"
      ]
     },
     "execution_count": 14,
     "metadata": {},
     "output_type": "execute_result"
    }
   ],
   "source": [
    "le = preprocessing.LabelEncoder()\n",
    "data_enc = dt.apply(le.fit_transform)\n",
    "data_enc_classification = data_enc.iloc[:,-1]\n",
    "data_enc = data_enc.iloc[:,:-1]\n",
    "data_enc\n",
    "\n",
    "X = list()\n",
    "for i in range(len(data_enc['outlook'])):\n",
    "    X.append([data_enc['outlook'][i], data_enc['temperature'][i],data_enc['humidity'][i], data_enc['windy'][i]])\n",
    "\n",
    "X = np.array(X)\n",
    "y = np.array(data_enc_classification)\n",
    "X"
   ]
  },
  {
   "cell_type": "code",
   "execution_count": 15,
   "metadata": {
    "collapsed": true
   },
   "outputs": [],
   "source": [
    "# XORdata = np.array([[0,0,0], [0,1,1], [1,0,1], [1,1,0]])\n",
    "# X = XORdata[:,0:2]\n",
    "# y = XORdata[:,-1]"
   ]
  },
  {
   "cell_type": "code",
   "execution_count": 19,
   "metadata": {},
   "outputs": [
    {
     "name": "stdout",
     "output_type": "stream",
     "text": [
      "Layer 1 \n",
      "neuron 1 : {'weights': array([0.49175982, 0.35875248, 0.03133327, 0.35240828])}\n",
      "neuron 2 : {'weights': array([0.83615424, 0.08946386, 0.98447131, 0.65281602])}\n",
      "neuron 3 : {'weights': array([0.71594575, 0.61121997, 0.06066958, 0.67315967])}\n",
      "neuron 4 : {'weights': array([0.05790188, 0.1745659 , 0.98039343, 0.82207439])}\n",
      "Layer 2 \n",
      "neuron 1 : {'weights': array([0.78417403, 0.69153133, 0.42016913, 0.08233671])}\n",
      "neuron 2 : {'weights': array([0.78988257, 0.38770157, 0.03110057, 0.14031299])}\n",
      "neuron 3 : {'weights': array([0.13241644, 0.17593618, 0.02596828, 0.76418703])}\n",
      "Layer 3 \n",
      "neuron 1 : {'weights': array([0.10828877, 0.13172116, 0.69634508])}\n",
      "neuron 2 : {'weights': array([0.6206584 , 0.62049656, 0.7294668 ])}\n",
      "neuron 3 : {'weights': array([0.74449418, 0.40493005, 0.83870864])}\n",
      "neuron 4 : {'weights': array([0.46152788, 0.17478967, 0.73101864])}\n",
      "Layer 4 \n",
      "neuron 1 : {'weights': array([0.02595487, 0.66759945, 0.48057175, 0.75926744])}\n",
      "len 1\n"
     ]
    }
   ],
   "source": [
    "nnmodel = bmglearn.NeuralNetwork(X)\n",
    "nnmodel.append_layer(4,input_dim=4)\n",
    "# nnmodel.append_layer(3, 4)\n",
    "nnmodel.append_layer(3)\n",
    "nnmodel.append_layer(4)\n",
    "nnmodel.append_layer(1)\n",
    "# nnmodel.append_layer(4, 1)\n",
    "# nnmodel.initialize_network()\n",
    "\n",
    "nnmodel.print_network()\n",
    "# nnmodel.training(X,y,10000)"
   ]
  },
  {
   "cell_type": "code",
   "execution_count": null,
   "metadata": {},
   "outputs": [],
   "source": [
    "pred=nnmodel.predict(np.array([0,1,0,0]))\n",
    "\n",
    "print(pred)"
   ]
  },
  {
   "cell_type": "code",
   "execution_count": null,
   "metadata": {
    "collapsed": true
   },
   "outputs": [],
   "source": [
    "pred=nnmodel.predict(np.array([0,1,0,0]))\n",
    "\n",
    "print(pred)"
   ]
  },
  {
   "cell_type": "code",
   "execution_count": null,
   "metadata": {
    "collapsed": true
   },
   "outputs": [],
   "source": [
    "for i,row in enumerate(X):\n",
    "    print(i,row)"
   ]
  },
  {
   "cell_type": "code",
   "execution_count": null,
   "metadata": {
    "collapsed": true
   },
   "outputs": [],
   "source": [
    "sum_error = 0\n",
    "for i,row in enumerate(X):\n",
    "#     outputs = self.forward_propagation(row)\n",
    "    expected = [0.0 for i in range(1)]\n",
    "#     expected[y[i]] = 1\n",
    "    \n",
    "    print(i,row)\n",
    "    \n",
    "\n",
    "expected\n",
    "\n",
    "#     sum_error+=sum([(expected[j]-outputs[j])**2 for j in range(len(expected))])\n",
    "#     self.back_propagation(row, expected)\n",
    "#     self.updateWeights(row)"
   ]
  },
  {
   "cell_type": "code",
   "execution_count": null,
   "metadata": {
    "collapsed": true
   },
   "outputs": [],
   "source": [
    "X"
   ]
  },
  {
   "cell_type": "code",
   "execution_count": null,
   "metadata": {},
   "outputs": [],
   "source": [
    "np.argmax(10)"
   ]
  },
  {
   "cell_type": "code",
   "execution_count": null,
   "metadata": {
    "collapsed": true
   },
   "outputs": [],
   "source": []
  }
 ],
 "metadata": {
  "kernelspec": {
   "display_name": "Python 3",
   "language": "python",
   "name": "python3"
  },
  "language_info": {
   "codemirror_mode": {
    "name": "ipython",
    "version": 3
   },
   "file_extension": ".py",
   "mimetype": "text/x-python",
   "name": "python",
   "nbconvert_exporter": "python",
   "pygments_lexer": "ipython3",
   "version": "3.6.3"
  }
 },
 "nbformat": 4,
 "nbformat_minor": 2
}
