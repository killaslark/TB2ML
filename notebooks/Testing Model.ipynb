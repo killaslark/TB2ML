{
 "cells": [
  {
   "cell_type": "code",
   "execution_count": 12,
   "metadata": {},
   "outputs": [],
   "source": [
    "import pandas as pd\n",
    "import numpy as np\n",
    "from sklearn import preprocessing,datasets\n",
    "import sklearn\n",
    "import bmglearn"
   ]
  },
  {
   "cell_type": "code",
   "execution_count": 13,
   "metadata": {},
   "outputs": [],
   "source": [
    "dt = pd.read_csv('data.csv')"
   ]
  },
  {
   "cell_type": "code",
   "execution_count": 14,
   "metadata": {},
   "outputs": [
    {
     "data": {
      "text/plain": [
       "array([[2, 1, 0, 0],\n",
       "       [2, 1, 0, 1],\n",
       "       [0, 1, 0, 0],\n",
       "       [1, 2, 0, 0],\n",
       "       [1, 0, 1, 0],\n",
       "       [1, 0, 1, 1],\n",
       "       [0, 0, 1, 1],\n",
       "       [2, 2, 0, 0],\n",
       "       [2, 0, 1, 0],\n",
       "       [1, 2, 1, 0],\n",
       "       [2, 2, 1, 1],\n",
       "       [0, 2, 0, 1],\n",
       "       [0, 1, 1, 0],\n",
       "       [1, 2, 0, 1]], dtype=int64)"
      ]
     },
     "execution_count": 14,
     "metadata": {},
     "output_type": "execute_result"
    }
   ],
   "source": [
    "le = preprocessing.LabelEncoder()\n",
    "data_enc = dt.apply(le.fit_transform)\n",
    "data_enc_classification = data_enc.iloc[:,-1]\n",
    "data_enc = data_enc.iloc[:,:-1]\n",
    "data_enc\n",
    "\n",
    "X = list()\n",
    "for i in range(len(data_enc['outlook'])):\n",
    "    X.append([data_enc['outlook'][i], data_enc['temperature'][i],data_enc['humidity'][i], data_enc['windy'][i]])\n",
    "\n",
    "X = np.array(X)\n",
    "y = np.array(data_enc_classification)\n",
    "X"
   ]
  },
  {
   "cell_type": "code",
   "execution_count": 15,
   "metadata": {
    "collapsed": true
   },
   "outputs": [],
   "source": [
    "# XORdata = np.array([[0,0,0], [0,1,1], [1,0,1], [1,1,0]])\n",
    "# X = XORdata[:,0:2]\n",
    "# y = XORdata[:,-1]"
   ]
  },
  {
   "cell_type": "code",
   "execution_count": 18,
   "metadata": {},
   "outputs": [
    {
     "name": "stdout",
     "output_type": "stream",
     "text": [
      "Layer 1 \n",
      "neuron 1 : {'weights': array([0.12349664, 0.21630902, 0.41496791])}\n",
      "neuron 2 : {'weights': array([0.00923266, 0.70134798, 0.756155  ])}\n",
      "neuron 3 : {'weights': array([0.91171399, 0.98088895, 0.85509958])}\n",
      "neuron 4 : {'weights': array([0.63440792, 0.01015667, 0.16234643])}\n",
      "Layer 2 \n",
      "neuron 1 : {'weights': array([0.15445243, 0.40039261, 0.66377001, 0.23386548])}\n",
      "neuron 2 : {'weights': array([0.93349102, 0.77065625, 0.08624645, 0.64581235])}\n",
      "neuron 3 : {'weights': array([0.52420634, 0.47927534, 0.68987551, 0.75386239])}\n",
      "Layer 3 \n",
      "neuron 1 : {'weights': array([0.45142882, 0.20320494, 0.57726632])}\n",
      "neuron 2 : {'weights': array([0.01709926, 0.51147041, 0.49221759])}\n",
      "neuron 3 : {'weights': array([0.28477808, 0.165103  , 0.79532428])}\n",
      "neuron 4 : {'weights': array([0.71921068, 0.35511655, 0.66624755])}\n",
      "Layer 4 \n",
      "neuron 1 : {'weights': array([0.85305919, 0.67382362, 0.29485518, 0.27316507])}\n",
      "len 1\n"
     ]
    }
   ],
   "source": [
    "nnmodel = bmglearn.NeuralNetwork(X)\n",
    "nnmodel.append_layer(4,input_dim=3)\n",
    "# nnmodel.append_layer(3, 4)\n",
    "nnmodel.append_layer(3)\n",
    "nnmodel.append_layer(4)\n",
    "nnmodel.append_layer(1)\n",
    "# nnmodel.append_layer(4, 1)\n",
    "# nnmodel.initialize_network()\n",
    "\n",
    "nnmodel.print_network()\n",
    "# nnmodel.training(X,y,10000)"
   ]
  },
  {
   "cell_type": "code",
   "execution_count": null,
   "metadata": {},
   "outputs": [],
   "source": [
    "pred=nnmodel.predict(np.array([0,1,0,0]))\n",
    "\n",
    "print(pred)"
   ]
  },
  {
   "cell_type": "code",
   "execution_count": null,
   "metadata": {
    "collapsed": true
   },
   "outputs": [],
   "source": [
    "pred=nnmodel.predict(np.array([0,1,0,0]))\n",
    "\n",
    "print(pred)"
   ]
  },
  {
   "cell_type": "code",
   "execution_count": null,
   "metadata": {
    "collapsed": true
   },
   "outputs": [],
   "source": [
    "for i,row in enumerate(X):\n",
    "    print(i,row)"
   ]
  },
  {
   "cell_type": "code",
   "execution_count": null,
   "metadata": {
    "collapsed": true
   },
   "outputs": [],
   "source": [
    "sum_error = 0\n",
    "for i,row in enumerate(X):\n",
    "#     outputs = self.forward_propagation(row)\n",
    "    expected = [0.0 for i in range(1)]\n",
    "#     expected[y[i]] = 1\n",
    "    \n",
    "    print(i,row)\n",
    "    \n",
    "\n",
    "expected\n",
    "\n",
    "#     sum_error+=sum([(expected[j]-outputs[j])**2 for j in range(len(expected))])\n",
    "#     self.back_propagation(row, expected)\n",
    "#     self.updateWeights(row)"
   ]
  },
  {
   "cell_type": "code",
   "execution_count": null,
   "metadata": {
    "collapsed": true
   },
   "outputs": [],
   "source": [
    "X"
   ]
  },
  {
   "cell_type": "code",
   "execution_count": null,
   "metadata": {},
   "outputs": [],
   "source": [
    "np.argmax(10)"
   ]
  },
  {
   "cell_type": "code",
   "execution_count": null,
   "metadata": {
    "collapsed": true
   },
   "outputs": [],
   "source": []
  }
 ],
 "metadata": {
  "kernelspec": {
   "display_name": "Python 3",
   "language": "python",
   "name": "python3"
  },
  "language_info": {
   "codemirror_mode": {
    "name": "ipython",
    "version": 3
   },
   "file_extension": ".py",
   "mimetype": "text/x-python",
   "name": "python",
   "nbconvert_exporter": "python",
   "pygments_lexer": "ipython3",
   "version": "3.6.3"
  }
 },
 "nbformat": 4,
 "nbformat_minor": 2
}
