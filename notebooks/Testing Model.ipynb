{
 "cells": [
  {
   "cell_type": "code",
   "execution_count": 20,
   "metadata": {},
   "outputs": [],
   "source": [
    "import pandas as pd\n",
    "import numpy as np\n",
    "from sklearn import preprocessing,datasets\n",
    "import sklearn\n",
    "from src import bmglearn"
   ]
  },
  {
   "cell_type": "code",
   "execution_count": 21,
   "metadata": {},
   "outputs": [],
   "source": [
    "dt = pd.read_csv('data.csv')"
   ]
  },
  {
   "cell_type": "code",
   "execution_count": 22,
   "metadata": {},
   "outputs": [
    {
     "data": {
      "text/plain": [
       "array([[2, 1, 0, 0],\n",
       "       [2, 1, 0, 1],\n",
       "       [0, 1, 0, 0],\n",
       "       [1, 2, 0, 0],\n",
       "       [1, 0, 1, 0],\n",
       "       [1, 0, 1, 1],\n",
       "       [0, 0, 1, 1],\n",
       "       [2, 2, 0, 0],\n",
       "       [2, 0, 1, 0],\n",
       "       [1, 2, 1, 0],\n",
       "       [2, 2, 1, 1],\n",
       "       [0, 2, 0, 1],\n",
       "       [0, 1, 1, 0],\n",
       "       [1, 2, 0, 1]], dtype=int64)"
      ]
     },
     "execution_count": 22,
     "metadata": {},
     "output_type": "execute_result"
    }
   ],
   "source": [
    "le = preprocessing.LabelEncoder()\n",
    "data_enc = dt.apply(le.fit_transform)\n",
    "data_enc_classification = data_enc.iloc[:,-1]\n",
    "data_enc = data_enc.iloc[:,:-1]\n",
    "data_enc\n",
    "\n",
    "X = list()\n",
    "for i in range(len(data_enc['outlook'])):\n",
    "    X.append([data_enc['outlook'][i], data_enc['temperature'][i],data_enc['humidity'][i], data_enc['windy'][i]])\n",
    "\n",
    "X = np.array(X)\n",
    "y = np.array(data_enc_classification)\n",
    "X"
   ]
  },
  {
   "cell_type": "code",
   "execution_count": 9,
   "metadata": {},
   "outputs": [],
   "source": [
    "# XORdata = np.array([[0,0,0], [0,1,1], [1,0,1], [1,1,0]])\n",
    "# X = XORdata[:,0:2]\n",
    "# y = XORdata[:,-1]"
   ]
  },
  {
   "cell_type": "code",
   "execution_count": 16,
   "metadata": {},
   "outputs": [
    {
     "name": "stdout",
     "output_type": "stream",
     "text": [
      "Layer 1 \n",
      "neuron 1 : {'weights': array([0.29262554, 0.91827772, 0.90605575, 0.0186691 ])}\n",
      "neuron 2 : {'weights': array([0.23874778, 0.49587291, 0.35690201, 0.6459561 ])}\n",
      "neuron 3 : {'weights': array([0.2626541 , 0.55759862, 0.22910661, 0.24592845])}\n",
      "Layer 2 \n",
      "neuron 1 : {'weights': array([0.92750136, 0.22132285, 0.44446754])}\n",
      "neuron 2 : {'weights': array([0.79907007, 0.89041523, 0.40632298])}\n",
      "neuron 3 : {'weights': array([0.49495272, 0.77442895, 0.25180543])}\n",
      "neuron 4 : {'weights': array([0.21398474, 0.09116922, 0.63562151])}\n",
      "Layer 3 \n",
      "neuron 1 : {'weights': array([0.3508956 , 0.29388299, 0.76968769, 0.70946109])}\n",
      ">epoch=0,error=3.719\n"
     ]
    },
    {
     "data": {
      "text/plain": [
       "[3.7185519816120594]"
      ]
     },
     "execution_count": 16,
     "metadata": {},
     "output_type": "execute_result"
    }
   ],
   "source": [
    "nnmodel = bmglearn.NeuralNetwork(X)\n",
    "nnmodel.append_layer(4, 3)\n",
    "nnmodel.append_layer(3, 4)\n",
    "# # nnmodel.append_layer(3)\n",
    "# # nnmodel.append_layer(3)\n",
    "nnmodel.append_layer(4, 1)\n",
    "# nnmodel.initialize_network()\n",
    "\n",
    "nnmodel.print_network()\n",
    "nnmodel.training(X,y,10000)"
   ]
  },
  {
   "cell_type": "code",
   "execution_count": 17,
   "metadata": {},
   "outputs": [
    {
     "name": "stdout",
     "output_type": "stream",
     "text": [
      "[0.9966852]\n"
     ]
    }
   ],
   "source": [
    "pred=nnmodel.predict(np.array([0,1,0,0]))\n",
    "\n",
    "print(pred)"
   ]
  },
  {
   "cell_type": "code",
   "execution_count": null,
   "metadata": {},
   "outputs": [],
   "source": [
    "pred=nnmodel.predict(np.array([0,1,0,0]))\n",
    "\n",
    "print(pred)"
   ]
  },
  {
   "cell_type": "code",
   "execution_count": null,
   "metadata": {},
   "outputs": [],
   "source": [
    "for i,row in enumerate(X):\n",
    "    print(i,row)"
   ]
  },
  {
   "cell_type": "code",
   "execution_count": null,
   "metadata": {},
   "outputs": [],
   "source": [
    "sum_error = 0\n",
    "for i,row in enumerate(X):\n",
    "#     outputs = self.forward_propagation(row)\n",
    "    expected = [0.0 for i in range(1)]\n",
    "#     expected[y[i]] = 1\n",
    "    \n",
    "    print(i,row)\n",
    "    \n",
    "\n",
    "expected\n",
    "\n",
    "#     sum_error+=sum([(expected[j]-outputs[j])**2 for j in range(len(expected))])\n",
    "#     self.back_propagation(row, expected)\n",
    "#     self.updateWeights(row)"
   ]
  },
  {
   "cell_type": "code",
   "execution_count": null,
   "metadata": {},
   "outputs": [],
   "source": [
    "X"
   ]
  },
  {
   "cell_type": "code",
   "execution_count": 12,
   "metadata": {},
   "outputs": [
    {
     "data": {
      "text/plain": [
       "0"
      ]
     },
     "execution_count": 12,
     "metadata": {},
     "output_type": "execute_result"
    }
   ],
   "source": [
    "np.argmax(10)"
   ]
  },
  {
   "cell_type": "code",
   "execution_count": null,
   "metadata": {
    "collapsed": true
   },
   "outputs": [],
   "source": []
  }
 ],
 "metadata": {
  "kernelspec": {
   "display_name": "Python 3",
   "language": "python",
   "name": "python3"
  },
  "language_info": {
   "codemirror_mode": {
    "name": "ipython",
    "version": 3
   },
   "file_extension": ".py",
   "mimetype": "text/x-python",
   "name": "python",
   "nbconvert_exporter": "python",
   "pygments_lexer": "ipython3",
   "version": "3.6.3"
  }
 },
 "nbformat": 4,
 "nbformat_minor": 2
}
